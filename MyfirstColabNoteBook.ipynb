{
  "nbformat": 4,
  "nbformat_minor": 0,
  "metadata": {
    "colab": {
      "provenance": [],
      "authorship_tag": "ABX9TyMBHZZKQk8/uiQV7NHTgbdG",
      "include_colab_link": true
    },
    "kernelspec": {
      "name": "python3",
      "display_name": "Python 3"
    },
    "language_info": {
      "name": "python"
    }
  },
  "cells": [
    {
      "cell_type": "markdown",
      "metadata": {
        "id": "view-in-github",
        "colab_type": "text"
      },
      "source": [
        "<a href=\"https://colab.research.google.com/github/nicoleyeh/GoogleColab/blob/main/MyfirstColabNoteBook.ipynb\" target=\"_parent\"><img src=\"https://colab.research.google.com/assets/colab-badge.svg\" alt=\"Open In Colab\"/></a>"
      ]
    },
    {
      "cell_type": "code",
      "execution_count": 4,
      "metadata": {
        "colab": {
          "base_uri": "https://localhost:8080/"
        },
        "id": "dsIHnWyLOK6d",
        "outputId": "2f1bc0f4-4fe9-4e27-e0c0-37266370e8b6"
      },
      "outputs": [
        {
          "output_type": "stream",
          "name": "stdout",
          "text": [
            "86400\n"
          ]
        }
      ],
      "source": [
        "second_in_a_day=24*60*60\n",
        "print(second_in_a_day)"
      ]
    },
    {
      "cell_type": "code",
      "source": [
        "second_in_a_week=second_in_a_day*7\n",
        "print(second_in_a_week)"
      ],
      "metadata": {
        "colab": {
          "base_uri": "https://localhost:8080/"
        },
        "id": "uB6tse1APb9w",
        "outputId": "e55f0d32-b106-4bf6-fc3a-560bd2a9f4c8"
      },
      "execution_count": 5,
      "outputs": [
        {
          "output_type": "stream",
          "name": "stdout",
          "text": [
            "604800\n"
          ]
        }
      ]
    },
    {
      "cell_type": "code",
      "source": [],
      "metadata": {
        "id": "MjjfWvQxY57T"
      },
      "execution_count": null,
      "outputs": []
    }
  ]
}